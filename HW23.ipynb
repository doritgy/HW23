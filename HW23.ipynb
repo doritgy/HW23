{
 "cells": [
  {
   "cell_type": "code",
   "execution_count": 1,
   "id": "b3a055a7-25e0-4d50-9b3d-9ad3bc77fdb6",
   "metadata": {},
   "outputs": [],
   "source": [
    "import numpy as np"
   ]
  },
  {
   "cell_type": "code",
   "execution_count": 7,
   "id": "4d5fce64-f388-4d84-9d79-3ba95ab73b24",
   "metadata": {},
   "outputs": [
    {
     "name": "stdout",
     "output_type": "stream",
     "text": [
      "[ 1  2  3  4  5  6  7  8  9 10]\n",
      "[0.5 1.  1.5 2.  2.5 3.  3.5 4.  4.5 5. ]\n"
     ]
    }
   ],
   "source": [
    "f_array = np.arange(1, 11)\n",
    "print(f_array)\n",
    "s_array = np.arange(0.5, 5 + 0.1, 0.5)\n",
    "print(s_array) "
   ]
  },
  {
   "cell_type": "code",
   "execution_count": 13,
   "id": "c3a41ec4-0623-4dba-aad1-6f5dd175863b",
   "metadata": {},
   "outputs": [
    {
     "name": "stdout",
     "output_type": "stream",
     "text": [
      "[0. 0. 0. 0. 0. 0. 0. 0. 0. 0.]\n",
      "[[0. 0. 0. 0.]\n",
      " [0. 0. 0. 0.]\n",
      " [0. 0. 0. 0.]]\n"
     ]
    }
   ],
   "source": [
    "print(np.zeros(10))\n",
    "print(np.zeros(shape=(3,4))) "
   ]
  },
  {
   "cell_type": "code",
   "execution_count": 45,
   "id": "db6e2219-ecc0-47b3-8240-44835945fd10",
   "metadata": {},
   "outputs": [
    {
     "name": "stdout",
     "output_type": "stream",
     "text": [
      "[ 2.   4.5  7.   9.5 12. ]\n"
     ]
    }
   ],
   "source": [
    "t_array = np.linspace(2,12,5)\n",
    "print(t_array)\n",
    "f_array = np.linspace(3,9,4)\n"
   ]
  },
  {
   "cell_type": "code",
   "execution_count": 43,
   "id": "e3e90a34-c789-4615-b38c-27b9a89e3a3d",
   "metadata": {},
   "outputs": [
    {
     "name": "stdout",
     "output_type": "stream",
     "text": [
      "[[0.51913607 0.0536034 ]\n",
      " [0.01288718 0.33729239]\n",
      " [0.91868871 0.64977829]\n",
      " [0.72071652 0.9223428 ]]\n",
      "[[0.51913607 0.0536034  0.01288718 0.33729239 0.91868871 0.64977829\n",
      "  0.72071652 0.9223428 ]]\n",
      "[[11 12 15]\n",
      " [15 16 19]\n",
      " [18 13 11]]\n"
     ]
    }
   ],
   "source": [
    "e_array = np.random.rand(4,2)\n",
    "print(e_array)\n",
    "b_array = e_array.reshape(1,8)\n",
    "print(b_array)\n",
    "n_array = np.random.randint(10,20,(3,3))\n",
    "print(n_array)\n"
   ]
  },
  {
   "cell_type": "code",
   "execution_count": 47,
   "id": "c49f1d8e-083b-47db-8959-e38c6972c3b8",
   "metadata": {},
   "outputs": [],
   "source": [
    "####In reshape we have to check that the number of items in perfectly the same"
   ]
  },
  {
   "cell_type": "code",
   "execution_count": 49,
   "id": "851da776-e14f-4e4c-8a9f-d386f90f52c6",
   "metadata": {},
   "outputs": [],
   "source": [
    "####If we use seed in random actions within every session we'll get the same random numbers,\n",
    "####which is usefull in tests and simulations"
   ]
  },
  {
   "cell_type": "markdown",
   "id": "ba37fdfa-33bb-4b41-956d-b4e2e13fb1d7",
   "metadata": {},
   "source": [
    "# "
   ]
  }
 ],
 "metadata": {
  "kernelspec": {
   "display_name": "Python 3 (ipykernel)",
   "language": "python",
   "name": "python3"
  },
  "language_info": {
   "codemirror_mode": {
    "name": "ipython",
    "version": 3
   },
   "file_extension": ".py",
   "mimetype": "text/x-python",
   "name": "python",
   "nbconvert_exporter": "python",
   "pygments_lexer": "ipython3",
   "version": "3.12.7"
  }
 },
 "nbformat": 4,
 "nbformat_minor": 5
}
